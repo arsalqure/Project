{
 "cells": [
  {
   "cell_type": "markdown",
   "metadata": {
    "id": "vvfEM9lO7o8z"
   },
   "source": [
    "**Registration number = 2310201**"
   ]
  },
  {
   "cell_type": "code",
   "execution_count": 1,
   "metadata": {
    "id": "XX7k6SE89PBu"
   },
   "outputs": [],
   "source": [
    "import pandas as pd  #import libraries\n",
    "import numpy as np\n",
    "import seaborn as sns\n",
    "from matplotlib import pyplot as plt\n",
    "import warnings\n",
    "import os\n",
    "import importlib\n",
    "warnings.filterwarnings('ignore')\n",
    "sns.set_theme(color_codes=True)"
   ]
  },
  {
   "cell_type": "code",
   "execution_count": 2,
   "metadata": {
    "id": "uJXJvimt_sx5"
   },
   "outputs": [],
   "source": [
    "#load the dataframe and set column name\n",
    "df=pd.read_csv('ratings_Electronics.csv',names=['userId', 'productId','rating','timestamp'])\n",
    "\n",
    "#Data set link https://www.kaggle.com/datasets/irvifa/amazon-product-reviews/data"
   ]
  },
  {
   "cell_type": "code",
   "execution_count": 3,
   "metadata": {
    "colab": {
     "base_uri": "https://localhost:8080/"
    },
    "id": "WnHHwr9HBd_b",
    "outputId": "1fbd6352-febc-477b-e650-bc4330c0b414"
   },
   "outputs": [
    {
     "name": "stdout",
     "output_type": "stream",
     "text": [
      "Shape of the DataFrame: (7824482, 4)\n",
      "Columns of the DataFrame: Index(['userId', 'productId', 'rating', 'timestamp'], dtype='object')\n"
     ]
    }
   ],
   "source": [
    "print(\"Shape of the DataFrame:\", df.shape)\n",
    "print(\"Columns of the DataFrame:\", df.columns)\n"
   ]
  },
  {
   "cell_type": "markdown",
   "metadata": {
    "id": "Se6x3DgyFOzs"
   },
   "source": [
    "Since our dataset is too big and it will be difficult to analyze the entire dataset due to limited resources,thats'why I am randomly taking 20% of the data as sample out of the whole dataset which is 1564896."
   ]
  },
  {
   "cell_type": "code",
   "execution_count": 4,
   "metadata": {
    "id": "u8xFguv6FOMD"
   },
   "outputs": [],
   "source": [
    "electronics_data=df.sample(n=1564896,ignore_index=True)"
   ]
  },
  {
   "cell_type": "code",
   "execution_count": 5,
   "metadata": {
    "id": "7DXvvDhPQswc"
   },
   "outputs": [],
   "source": [
    "#after taking samples drop df to release the memory occupied by entire dataframe\n",
    "del df"
   ]
  },
  {
   "cell_type": "code",
   "execution_count": 6,
   "metadata": {
    "colab": {
     "base_uri": "https://localhost:8080/",
     "height": 206
    },
    "id": "GCQ0j7c9IEPy",
    "outputId": "cb7c8b03-152d-432b-8b2d-705c12e9fa54"
   },
   "outputs": [
    {
     "data": {
      "text/html": [
       "<div>\n",
       "<style scoped>\n",
       "    .dataframe tbody tr th:only-of-type {\n",
       "        vertical-align: middle;\n",
       "    }\n",
       "\n",
       "    .dataframe tbody tr th {\n",
       "        vertical-align: top;\n",
       "    }\n",
       "\n",
       "    .dataframe thead th {\n",
       "        text-align: right;\n",
       "    }\n",
       "</style>\n",
       "<table border=\"1\" class=\"dataframe\">\n",
       "  <thead>\n",
       "    <tr style=\"text-align: right;\">\n",
       "      <th></th>\n",
       "      <th>userId</th>\n",
       "      <th>productId</th>\n",
       "      <th>rating</th>\n",
       "      <th>timestamp</th>\n",
       "    </tr>\n",
       "  </thead>\n",
       "  <tbody>\n",
       "    <tr>\n",
       "      <th>0</th>\n",
       "      <td>A2XP4SB0E5KP0Q</td>\n",
       "      <td>B000LUE73U</td>\n",
       "      <td>5.0</td>\n",
       "      <td>1180051200</td>\n",
       "    </tr>\n",
       "    <tr>\n",
       "      <th>1</th>\n",
       "      <td>ABFP9LOT2UFSP</td>\n",
       "      <td>B003SX0O2K</td>\n",
       "      <td>5.0</td>\n",
       "      <td>1366502400</td>\n",
       "    </tr>\n",
       "    <tr>\n",
       "      <th>2</th>\n",
       "      <td>A2EZ74GQP6666R</td>\n",
       "      <td>B000OGX5AM</td>\n",
       "      <td>5.0</td>\n",
       "      <td>1384819200</td>\n",
       "    </tr>\n",
       "    <tr>\n",
       "      <th>3</th>\n",
       "      <td>A1SVC2DEI9HXNB</td>\n",
       "      <td>B005TETNIC</td>\n",
       "      <td>4.0</td>\n",
       "      <td>1390435200</td>\n",
       "    </tr>\n",
       "    <tr>\n",
       "      <th>4</th>\n",
       "      <td>A1LR253XJUWNBG</td>\n",
       "      <td>B0042A8CW2</td>\n",
       "      <td>5.0</td>\n",
       "      <td>1360022400</td>\n",
       "    </tr>\n",
       "  </tbody>\n",
       "</table>\n",
       "</div>"
      ],
      "text/plain": [
       "           userId   productId  rating   timestamp\n",
       "0  A2XP4SB0E5KP0Q  B000LUE73U     5.0  1180051200\n",
       "1   ABFP9LOT2UFSP  B003SX0O2K     5.0  1366502400\n",
       "2  A2EZ74GQP6666R  B000OGX5AM     5.0  1384819200\n",
       "3  A1SVC2DEI9HXNB  B005TETNIC     4.0  1390435200\n",
       "4  A1LR253XJUWNBG  B0042A8CW2     5.0  1360022400"
      ]
     },
     "execution_count": 6,
     "metadata": {},
     "output_type": "execute_result"
    }
   ],
   "source": [
    "#print top 5 records of the dataset\n",
    "electronics_data.head()"
   ]
  },
  {
   "cell_type": "code",
   "execution_count": 7,
   "metadata": {
    "colab": {
     "base_uri": "https://localhost:8080/"
    },
    "id": "WcOMs9uoIInp",
    "outputId": "52c76e16-d282-4dab-8dbe-516275bb3492"
   },
   "outputs": [
    {
     "name": "stdout",
     "output_type": "stream",
     "text": [
      "<class 'pandas.core.frame.DataFrame'>\n",
      "RangeIndex: 1564896 entries, 0 to 1564895\n",
      "Data columns (total 4 columns):\n",
      " #   Column     Non-Null Count    Dtype  \n",
      "---  ------     --------------    -----  \n",
      " 0   userId     1564896 non-null  object \n",
      " 1   productId  1564896 non-null  object \n",
      " 2   rating     1564896 non-null  float64\n",
      " 3   timestamp  1564896 non-null  int64  \n",
      "dtypes: float64(1), int64(1), object(2)\n",
      "memory usage: 47.8+ MB\n"
     ]
    }
   ],
   "source": [
    "#print the concise information of the dataset\n",
    "electronics_data.info()"
   ]
  },
  {
   "cell_type": "code",
   "execution_count": 8,
   "metadata": {
    "id": "5szvwo2zJk2I"
   },
   "outputs": [],
   "source": [
    "#drop timestamp column\n",
    "electronics_data.drop('timestamp',axis=1,inplace=True)"
   ]
  },
  {
   "cell_type": "code",
   "execution_count": 9,
   "metadata": {
    "colab": {
     "base_uri": "https://localhost:8080/",
     "height": 300
    },
    "id": "sziFiaDqISk6",
    "outputId": "956e152e-ec9a-4ee0-e236-58985c833462"
   },
   "outputs": [
    {
     "data": {
      "text/html": [
       "<div>\n",
       "<style scoped>\n",
       "    .dataframe tbody tr th:only-of-type {\n",
       "        vertical-align: middle;\n",
       "    }\n",
       "\n",
       "    .dataframe tbody tr th {\n",
       "        vertical-align: top;\n",
       "    }\n",
       "\n",
       "    .dataframe thead th {\n",
       "        text-align: right;\n",
       "    }\n",
       "</style>\n",
       "<table border=\"1\" class=\"dataframe\">\n",
       "  <thead>\n",
       "    <tr style=\"text-align: right;\">\n",
       "      <th></th>\n",
       "      <th>rating</th>\n",
       "    </tr>\n",
       "  </thead>\n",
       "  <tbody>\n",
       "    <tr>\n",
       "      <th>count</th>\n",
       "      <td>1.564896e+06</td>\n",
       "    </tr>\n",
       "    <tr>\n",
       "      <th>mean</th>\n",
       "      <td>4.012609e+00</td>\n",
       "    </tr>\n",
       "    <tr>\n",
       "      <th>std</th>\n",
       "      <td>1.381019e+00</td>\n",
       "    </tr>\n",
       "    <tr>\n",
       "      <th>min</th>\n",
       "      <td>1.000000e+00</td>\n",
       "    </tr>\n",
       "    <tr>\n",
       "      <th>25%</th>\n",
       "      <td>3.000000e+00</td>\n",
       "    </tr>\n",
       "    <tr>\n",
       "      <th>50%</th>\n",
       "      <td>5.000000e+00</td>\n",
       "    </tr>\n",
       "    <tr>\n",
       "      <th>75%</th>\n",
       "      <td>5.000000e+00</td>\n",
       "    </tr>\n",
       "    <tr>\n",
       "      <th>max</th>\n",
       "      <td>5.000000e+00</td>\n",
       "    </tr>\n",
       "  </tbody>\n",
       "</table>\n",
       "</div>"
      ],
      "text/plain": [
       "             rating\n",
       "count  1.564896e+06\n",
       "mean   4.012609e+00\n",
       "std    1.381019e+00\n",
       "min    1.000000e+00\n",
       "25%    3.000000e+00\n",
       "50%    5.000000e+00\n",
       "75%    5.000000e+00\n",
       "max    5.000000e+00"
      ]
     },
     "execution_count": 9,
     "metadata": {},
     "output_type": "execute_result"
    }
   ],
   "source": [
    "electronics_data.describe()"
   ]
  },
  {
   "cell_type": "markdown",
   "metadata": {
    "id": "65_4Ny1wIluD"
   },
   "source": [
    "As we can see minimum rating of the products is 1 , maximum rating is 5 and average rating of the products is around 4."
   ]
  },
  {
   "cell_type": "code",
   "execution_count": 10,
   "metadata": {
    "colab": {
     "base_uri": "https://localhost:8080/"
    },
    "id": "mYQSDgBmIzwY",
    "outputId": "154cbd50-7177-46d5-e2a9-62de2f5cc51a"
   },
   "outputs": [
    {
     "data": {
      "text/plain": [
       "userId       0\n",
       "productId    0\n",
       "rating       0\n",
       "dtype: int64"
      ]
     },
     "execution_count": 10,
     "metadata": {},
     "output_type": "execute_result"
    }
   ],
   "source": [
    "#handle missing values\n",
    "electronics_data.isnull().sum()"
   ]
  },
  {
   "cell_type": "code",
   "execution_count": 11,
   "metadata": {
    "colab": {
     "base_uri": "https://localhost:8080/"
    },
    "id": "9DgA6FcxJXgz",
    "outputId": "8a633dcc-f897-4949-bb03-1ee794da036d"
   },
   "outputs": [
    {
     "data": {
      "text/plain": [
       "0"
      ]
     },
     "execution_count": 11,
     "metadata": {},
     "output_type": "execute_result"
    }
   ],
   "source": [
    "#handling duplicate records\n",
    "electronics_data[electronics_data.duplicated()].shape[0]"
   ]
  },
  {
   "cell_type": "code",
   "execution_count": 12,
   "metadata": {
    "colab": {
     "base_uri": "https://localhost:8080/",
     "height": 206
    },
    "id": "IbIVcC2cK7QK",
    "outputId": "22796df1-8551-4e43-88b1-86cf8d49a9f8"
   },
   "outputs": [
    {
     "data": {
      "text/html": [
       "<div>\n",
       "<style scoped>\n",
       "    .dataframe tbody tr th:only-of-type {\n",
       "        vertical-align: middle;\n",
       "    }\n",
       "\n",
       "    .dataframe tbody tr th {\n",
       "        vertical-align: top;\n",
       "    }\n",
       "\n",
       "    .dataframe thead th {\n",
       "        text-align: right;\n",
       "    }\n",
       "</style>\n",
       "<table border=\"1\" class=\"dataframe\">\n",
       "  <thead>\n",
       "    <tr style=\"text-align: right;\">\n",
       "      <th></th>\n",
       "      <th>userId</th>\n",
       "      <th>productId</th>\n",
       "      <th>rating</th>\n",
       "    </tr>\n",
       "  </thead>\n",
       "  <tbody>\n",
       "    <tr>\n",
       "      <th>0</th>\n",
       "      <td>A2XP4SB0E5KP0Q</td>\n",
       "      <td>B000LUE73U</td>\n",
       "      <td>5.0</td>\n",
       "    </tr>\n",
       "    <tr>\n",
       "      <th>1</th>\n",
       "      <td>ABFP9LOT2UFSP</td>\n",
       "      <td>B003SX0O2K</td>\n",
       "      <td>5.0</td>\n",
       "    </tr>\n",
       "    <tr>\n",
       "      <th>2</th>\n",
       "      <td>A2EZ74GQP6666R</td>\n",
       "      <td>B000OGX5AM</td>\n",
       "      <td>5.0</td>\n",
       "    </tr>\n",
       "    <tr>\n",
       "      <th>3</th>\n",
       "      <td>A1SVC2DEI9HXNB</td>\n",
       "      <td>B005TETNIC</td>\n",
       "      <td>4.0</td>\n",
       "    </tr>\n",
       "    <tr>\n",
       "      <th>4</th>\n",
       "      <td>A1LR253XJUWNBG</td>\n",
       "      <td>B0042A8CW2</td>\n",
       "      <td>5.0</td>\n",
       "    </tr>\n",
       "  </tbody>\n",
       "</table>\n",
       "</div>"
      ],
      "text/plain": [
       "           userId   productId  rating\n",
       "0  A2XP4SB0E5KP0Q  B000LUE73U     5.0\n",
       "1   ABFP9LOT2UFSP  B003SX0O2K     5.0\n",
       "2  A2EZ74GQP6666R  B000OGX5AM     5.0\n",
       "3  A1SVC2DEI9HXNB  B005TETNIC     4.0\n",
       "4  A1LR253XJUWNBG  B0042A8CW2     5.0"
      ]
     },
     "execution_count": 12,
     "metadata": {},
     "output_type": "execute_result"
    }
   ],
   "source": [
    "electronics_data.head()"
   ]
  },
  {
   "cell_type": "code",
   "execution_count": 13,
   "metadata": {
    "colab": {
     "base_uri": "https://localhost:8080/",
     "height": 450
    },
    "id": "JO_2nZ5ePEh2",
    "outputId": "2d8d7459-a4cd-49d7-9439-970de30135a5"
   },
   "outputs": [
    {
     "data": {
      "image/png": "[encoded data removed]",
      "text/plain": [
       "<Figure size 1000x600 with 1 Axes>"
      ]
     },
     "metadata": {},
     "output_type": "display_data"
    }
   ],
   "source": [
    "plt.figure(figsize=(10,6))  # PLOT RATING DIST\n",
    "sns.countplot(x='rating',data=electronics_data)\n",
    "plt.title('Rating Distribution')\n",
    "plt.xlabel('Rating')\n",
    "plt.ylabel('Count')\n",
    "plt.grid()\n",
    "plt.show()"
   ]
  },
  {
   "cell_type": "markdown",
   "metadata": {
    "id": "LyWqed7fRYAR"
   },
   "source": [
    "most of the user have given 5 rating"
   ]
  },
  {
   "cell_type": "code",
   "execution_count": 14,
   "metadata": {
    "colab": {
     "base_uri": "https://localhost:8080/"
    },
    "id": "IMk9X21zRUPk",
    "outputId": "d0a47627-c81f-42ac-dee1-be6d7be3ed77",
    "scrolled": true
   },
   "outputs": [
    {
     "name": "stdout",
     "output_type": "stream",
     "text": [
      "Total rating :  1564896\n",
      "Total unique users :  1225756\n",
      "Total unique products :  237599\n"
     ]
    }
   ],
   "source": [
    "print('Total rating : ',electronics_data.shape[0])\n",
    "print('Total unique users : ',electronics_data['userId'].unique().shape[0])\n",
    "print('Total unique products : ',electronics_data['productId'].unique().shape[0])"
   ]
  },
  {
   "cell_type": "markdown",
   "metadata": {
    "id": "usv4Fs4lTSx4"
   },
   "source": [
    "Analyzing the rating by user"
   ]
  },
  {
   "cell_type": "code",
   "execution_count": 15,
   "metadata": {
    "colab": {
     "base_uri": "https://localhost:8080/"
    },
    "id": "-bdCfmadSFGE",
    "outputId": "34c8bfc6-6c36-4359-a71b-5ec525acba67"
   },
   "outputs": [
    {
     "data": {
      "text/plain": [
       "userId\n",
       "ADLVFFE4VBT8      109\n",
       "A5JLAU2ARJ0BO     104\n",
       "A6FIAB28IS79      102\n",
       "A3OXHLG6DIBRW8     96\n",
       "A1ODOGXEYECQQ8     80\n",
       "Name: rating, dtype: int64"
      ]
     },
     "execution_count": 15,
     "metadata": {},
     "output_type": "execute_result"
    }
   ],
   "source": [
    "# Group the DataFrame 'electronics_data' by 'userId', then count the number of ratings for each user,\n",
    "# and sort the result in descending order\n",
    "no_of_rated_products_per_user = electronics_data.groupby(by='userId')['rating'].count().sort_values(ascending=False)\n",
    "\n",
    "# To show the number of ratings per user\n",
    "no_of_rated_products_per_user.head()"
   ]
  },
  {
   "cell_type": "code",
   "execution_count": 16,
   "metadata": {
    "colab": {
     "base_uri": "https://localhost:8080/"
    },
    "id": "3Q0dHH_vUOC1",
    "outputId": "1d08be09-1625-494d-91e6-bd085dbb25d5"
   },
   "outputs": [
    {
     "name": "stdout",
     "output_type": "stream",
     "text": [
      "No of rated product more than 50 per user : 25 \n"
     ]
    }
   ],
   "source": [
    "#THOSE USER GIVEN MORE THAN 50 RATING\n",
    "print('No of rated product more than 50 per user : {} '.format(sum(no_of_rated_products_per_user >= 50)))"
   ]
  },
  {
   "cell_type": "markdown",
   "metadata": {
    "id": "O9NxjJNsX_jW"
   },
   "source": [
    "**Popularity Based Recommendation**"
   ]
  },
  {
   "cell_type": "code",
   "execution_count": 17,
   "metadata": {
    "id": "efa0q7SPV6pR"
   },
   "outputs": [],
   "source": [
    "#PRODUCTS THAT GOT MORE RATINGS\n",
    "data=electronics_data.groupby('productId').filter(lambda x:x['rating'].count()>=50)"
   ]
  },
  {
   "cell_type": "code",
   "execution_count": 18,
   "metadata": {
    "colab": {
     "base_uri": "https://localhost:8080/",
     "height": 206
    },
    "id": "pscWKHXoQimo",
    "outputId": "1c6a296b-7007-443e-9dc4-cf2ad2e61414"
   },
   "outputs": [
    {
     "data": {
      "text/html": [
       "<div>\n",
       "<style scoped>\n",
       "    .dataframe tbody tr th:only-of-type {\n",
       "        vertical-align: middle;\n",
       "    }\n",
       "\n",
       "    .dataframe tbody tr th {\n",
       "        vertical-align: top;\n",
       "    }\n",
       "\n",
       "    .dataframe thead th {\n",
       "        text-align: right;\n",
       "    }\n",
       "</style>\n",
       "<table border=\"1\" class=\"dataframe\">\n",
       "  <thead>\n",
       "    <tr style=\"text-align: right;\">\n",
       "      <th></th>\n",
       "      <th>userId</th>\n",
       "      <th>productId</th>\n",
       "      <th>rating</th>\n",
       "    </tr>\n",
       "  </thead>\n",
       "  <tbody>\n",
       "    <tr>\n",
       "      <th>2</th>\n",
       "      <td>A2EZ74GQP6666R</td>\n",
       "      <td>B000OGX5AM</td>\n",
       "      <td>5.0</td>\n",
       "    </tr>\n",
       "    <tr>\n",
       "      <th>4</th>\n",
       "      <td>A1LR253XJUWNBG</td>\n",
       "      <td>B0042A8CW2</td>\n",
       "      <td>5.0</td>\n",
       "    </tr>\n",
       "    <tr>\n",
       "      <th>7</th>\n",
       "      <td>A271FOCS9YKPSG</td>\n",
       "      <td>B003WUBIZQ</td>\n",
       "      <td>5.0</td>\n",
       "    </tr>\n",
       "    <tr>\n",
       "      <th>8</th>\n",
       "      <td>A1RQVS78934DNB</td>\n",
       "      <td>B005CWJB5G</td>\n",
       "      <td>5.0</td>\n",
       "    </tr>\n",
       "    <tr>\n",
       "      <th>12</th>\n",
       "      <td>A2F1RP9M9UME1Y</td>\n",
       "      <td>B00BZC31WQ</td>\n",
       "      <td>3.0</td>\n",
       "    </tr>\n",
       "  </tbody>\n",
       "</table>\n",
       "</div>"
      ],
      "text/plain": [
       "            userId   productId  rating\n",
       "2   A2EZ74GQP6666R  B000OGX5AM     5.0\n",
       "4   A1LR253XJUWNBG  B0042A8CW2     5.0\n",
       "7   A271FOCS9YKPSG  B003WUBIZQ     5.0\n",
       "8   A1RQVS78934DNB  B005CWJB5G     5.0\n",
       "12  A2F1RP9M9UME1Y  B00BZC31WQ     3.0"
      ]
     },
     "execution_count": 18,
     "metadata": {},
     "output_type": "execute_result"
    }
   ],
   "source": [
    "data.head()"
   ]
  },
  {
   "cell_type": "code",
   "execution_count": 19,
   "metadata": {
    "id": "rMeQMAzgZvMM"
   },
   "outputs": [],
   "source": [
    "#TOP RATED PRODUCTS\n",
    "no_of_rating_per_product=data.groupby('productId')['rating'].count().sort_values(ascending=False)"
   ]
  },
  {
   "cell_type": "code",
   "execution_count": 20,
   "metadata": {
    "colab": {
     "base_uri": "https://localhost:8080/"
    },
    "id": "rmqAKxUMQ4Eh",
    "outputId": "631d7905-77ff-4c3a-e4e6-c492d20890b3"
   },
   "outputs": [
    {
     "data": {
      "text/plain": [
       "productId\n",
       "B0074BW614    3647\n",
       "B00DR0PDNE    3432\n",
       "B007WTAJTO    2913\n",
       "B0019EHU8G    2509\n",
       "B006GWO5WK    2458\n",
       "Name: rating, dtype: int64"
      ]
     },
     "execution_count": 20,
     "metadata": {},
     "output_type": "execute_result"
    }
   ],
   "source": [
    "no_of_rating_per_product.head()"
   ]
  },
  {
   "cell_type": "code",
   "execution_count": 21,
   "metadata": {
    "colab": {
     "base_uri": "https://localhost:8080/",
     "height": 578
    },
    "id": "Bi4Tr7zAaPOv",
    "outputId": "67144862-0ae5-4d5b-a249-2b1533ba384e"
   },
   "outputs": [
    {
     "data": {
      "image/png": "[encoded data removed]",
      "text/plain": [
       "<Figure size 640x480 with 1 Axes>"
      ]
     },
     "metadata": {},
     "output_type": "display_data"
    }
   ],
   "source": [
    "# Plot the top 20 products by the number of ratings they received\n",
    "no_of_rating_per_product.head(20).plot(kind='bar')\n",
    "plt.xlabel('Product ID')# Label the x-axis as 'Product ID'\n",
    "plt.ylabel('Number of rating')# Label the y-axis as 'numb of rating'\n",
    "plt.title('Top 20 products')\n",
    "plt.show()"
   ]
  },
  {
   "cell_type": "code",
   "execution_count": 22,
   "metadata": {
    "colab": {
     "base_uri": "https://localhost:8080/",
     "height": 238
    },
    "id": "_yLKpRtpb1jR",
    "outputId": "733a3f48-dc48-43a4-ec70-e2052ac3e9d9"
   },
   "outputs": [
    {
     "data": {
      "text/html": [
       "<div>\n",
       "<style scoped>\n",
       "    .dataframe tbody tr th:only-of-type {\n",
       "        vertical-align: middle;\n",
       "    }\n",
       "\n",
       "    .dataframe tbody tr th {\n",
       "        vertical-align: top;\n",
       "    }\n",
       "\n",
       "    .dataframe thead th {\n",
       "        text-align: right;\n",
       "    }\n",
       "</style>\n",
       "<table border=\"1\" class=\"dataframe\">\n",
       "  <thead>\n",
       "    <tr style=\"text-align: right;\">\n",
       "      <th></th>\n",
       "      <th>rating</th>\n",
       "    </tr>\n",
       "    <tr>\n",
       "      <th>productId</th>\n",
       "      <th></th>\n",
       "    </tr>\n",
       "  </thead>\n",
       "  <tbody>\n",
       "    <tr>\n",
       "      <th>0972683275</th>\n",
       "      <td>4.490196</td>\n",
       "    </tr>\n",
       "    <tr>\n",
       "      <th>1400501466</th>\n",
       "      <td>3.368421</td>\n",
       "    </tr>\n",
       "    <tr>\n",
       "      <th>1400532655</th>\n",
       "      <td>3.840000</td>\n",
       "    </tr>\n",
       "    <tr>\n",
       "      <th>140053271X</th>\n",
       "      <td>3.910112</td>\n",
       "    </tr>\n",
       "    <tr>\n",
       "      <th>B00000DM9W</th>\n",
       "      <td>4.723684</td>\n",
       "    </tr>\n",
       "  </tbody>\n",
       "</table>\n",
       "</div>"
      ],
      "text/plain": [
       "              rating\n",
       "productId           \n",
       "0972683275  4.490196\n",
       "1400501466  3.368421\n",
       "1400532655  3.840000\n",
       "140053271X  3.910112\n",
       "B00000DM9W  4.723684"
      ]
     },
     "execution_count": 22,
     "metadata": {},
     "output_type": "execute_result"
    }
   ],
   "source": [
    "#average rating product\n",
    "mean_rating_product_count=pd.DataFrame(data.groupby('productId')['rating'].mean())\n",
    "#NEW TABLE TO FIND AVERAGE RATING PRODUCTS\n",
    "mean_rating_product_count.head()"
   ]
  },
  {
   "cell_type": "code",
   "execution_count": 23,
   "metadata": {
    "colab": {
     "base_uri": "https://localhost:8080/",
     "height": 457
    },
    "id": "tRjXYsRAdxoa",
    "outputId": "b44d4ce5-bfcc-4fda-f6b3-445734a882f7"
   },
   "outputs": [
    {
     "data": {
      "image/png": "[encoded data removed]",
      "text/plain": [
       "<Figure size 640x480 with 1 Axes>"
      ]
     },
     "metadata": {},
     "output_type": "display_data"
    }
   ],
   "source": [
    "#plot the rating distribution of an average rating product\n",
    "plt.hist(mean_rating_product_count['rating'],bins=100)\n",
    "plt.title('Mean Rating distribution')\n",
    "plt.show()"
   ]
  },
  {
   "cell_type": "code",
   "execution_count": 24,
   "metadata": {
    "colab": {
     "base_uri": "https://localhost:8080/"
    },
    "id": "0tq4fLQdeZT4",
    "outputId": "3713845d-1daf-4f5e-c41d-50490dcee04c"
   },
   "outputs": [
    {
     "data": {
      "text/plain": [
       "-0.9695818383032764"
      ]
     },
     "execution_count": 24,
     "metadata": {},
     "output_type": "execute_result"
    }
   ],
   "source": [
    "#check the skewness of the mean rating data\n",
    "mean_rating_product_count['rating'].skew()"
   ]
  },
  {
   "cell_type": "code",
   "execution_count": 25,
   "metadata": {
    "id": "LtTHQx8xesOP"
   },
   "outputs": [],
   "source": [
    "# It is highly negative skewed which means maximum products get reviewed more than the mean"
   ]
  },
  {
   "cell_type": "code",
   "execution_count": 26,
   "metadata": {
    "id": "d2kbkuLqQuTM"
   },
   "outputs": [],
   "source": [
    "mean_rating_product_count['rating_counts'] = pd.DataFrame(data.groupby('productId')['rating'].count())"
   ]
  },
  {
   "cell_type": "code",
   "execution_count": 27,
   "metadata": {
    "colab": {
     "base_uri": "https://localhost:8080/",
     "height": 238
    },
    "id": "AVTwZ7_McjMW",
    "outputId": "0254943e-5e89-421e-8777-1d980f70562f"
   },
   "outputs": [
    {
     "data": {
      "text/html": [
       "<div>\n",
       "<style scoped>\n",
       "    .dataframe tbody tr th:only-of-type {\n",
       "        vertical-align: middle;\n",
       "    }\n",
       "\n",
       "    .dataframe tbody tr th {\n",
       "        vertical-align: top;\n",
       "    }\n",
       "\n",
       "    .dataframe thead th {\n",
       "        text-align: right;\n",
       "    }\n",
       "</style>\n",
       "<table border=\"1\" class=\"dataframe\">\n",
       "  <thead>\n",
       "    <tr style=\"text-align: right;\">\n",
       "      <th></th>\n",
       "      <th>rating</th>\n",
       "      <th>rating_counts</th>\n",
       "    </tr>\n",
       "    <tr>\n",
       "      <th>productId</th>\n",
       "      <th></th>\n",
       "      <th></th>\n",
       "    </tr>\n",
       "  </thead>\n",
       "  <tbody>\n",
       "    <tr>\n",
       "      <th>0972683275</th>\n",
       "      <td>4.490196</td>\n",
       "      <td>204</td>\n",
       "    </tr>\n",
       "    <tr>\n",
       "      <th>1400501466</th>\n",
       "      <td>3.368421</td>\n",
       "      <td>57</td>\n",
       "    </tr>\n",
       "    <tr>\n",
       "      <th>1400532655</th>\n",
       "      <td>3.840000</td>\n",
       "      <td>100</td>\n",
       "    </tr>\n",
       "    <tr>\n",
       "      <th>140053271X</th>\n",
       "      <td>3.910112</td>\n",
       "      <td>89</td>\n",
       "    </tr>\n",
       "    <tr>\n",
       "      <th>B00000DM9W</th>\n",
       "      <td>4.723684</td>\n",
       "      <td>76</td>\n",
       "    </tr>\n",
       "  </tbody>\n",
       "</table>\n",
       "</div>"
      ],
      "text/plain": [
       "              rating  rating_counts\n",
       "productId                          \n",
       "0972683275  4.490196            204\n",
       "1400501466  3.368421             57\n",
       "1400532655  3.840000            100\n",
       "140053271X  3.910112             89\n",
       "B00000DM9W  4.723684             76"
      ]
     },
     "execution_count": 27,
     "metadata": {},
     "output_type": "execute_result"
    }
   ],
   "source": [
    "# NO OF RATINGS THAN GAVE THE MEAN RATING\n",
    "mean_rating_product_count.head()"
   ]
  },
  {
   "cell_type": "code",
   "execution_count": 28,
   "metadata": {
    "colab": {
     "base_uri": "https://localhost:8080/",
     "height": 112
    },
    "id": "G1VvJfy3glwn",
    "outputId": "7aae5e3c-f922-4edc-d98d-8ed5680a0447"
   },
   "outputs": [
    {
     "data": {
      "text/html": [
       "<div>\n",
       "<style scoped>\n",
       "    .dataframe tbody tr th:only-of-type {\n",
       "        vertical-align: middle;\n",
       "    }\n",
       "\n",
       "    .dataframe tbody tr th {\n",
       "        vertical-align: top;\n",
       "    }\n",
       "\n",
       "    .dataframe thead th {\n",
       "        text-align: right;\n",
       "    }\n",
       "</style>\n",
       "<table border=\"1\" class=\"dataframe\">\n",
       "  <thead>\n",
       "    <tr style=\"text-align: right;\">\n",
       "      <th></th>\n",
       "      <th>rating</th>\n",
       "      <th>rating_counts</th>\n",
       "    </tr>\n",
       "    <tr>\n",
       "      <th>productId</th>\n",
       "      <th></th>\n",
       "      <th></th>\n",
       "    </tr>\n",
       "  </thead>\n",
       "  <tbody>\n",
       "    <tr>\n",
       "      <th>B0074BW614</th>\n",
       "      <td>4.513573</td>\n",
       "      <td>3647</td>\n",
       "    </tr>\n",
       "  </tbody>\n",
       "</table>\n",
       "</div>"
      ],
      "text/plain": [
       "              rating  rating_counts\n",
       "productId                          \n",
       "B0074BW614  4.513573           3647"
      ]
     },
     "execution_count": 28,
     "metadata": {},
     "output_type": "execute_result"
    }
   ],
   "source": [
    "#highest mean rating product\n",
    "mean_rating_product_count[mean_rating_product_count['rating_counts']==mean_rating_product_count['rating_counts'].max()]  #HIGHEST RATED PRODUCT"
   ]
  },
  {
   "cell_type": "code",
   "execution_count": 29,
   "metadata": {
    "colab": {
     "base_uri": "https://localhost:8080/",
     "height": 493
    },
    "id": "j_waDBkUhO2w",
    "outputId": "4404182c-a6c6-4c7e-c664-03df79ec82e4"
   },
   "outputs": [
    {
     "name": "stdout",
     "output_type": "stream",
     "text": [
      "min average rating products :  50\n",
      "total min average rating products :  127\n"
     ]
    },
    {
     "data": {
      "image/png": "[encoded data removed]",
      "text/plain": [
       "<Figure size 640x480 with 1 Axes>"
      ]
     },
     "metadata": {},
     "output_type": "display_data"
    }
   ],
   "source": [
    "# Print the minimum number of ratings among all products\n",
    "print('min average rating products : ',mean_rating_product_count['rating_counts'].min())\n",
    "# Print the total number of products that have the minimum average rating\n",
    "print('total min average rating products : ',mean_rating_product_count[mean_rating_product_count['rating_counts']==mean_rating_product_count['rating_counts'].min()].shape[0])\n",
    "\n",
    "\n",
    "#plot the rating count of mean_rating_product_count\n",
    "plt.hist(mean_rating_product_count['rating_counts'],bins=100)\n",
    "plt.title('Rating count distribution')\n",
    "plt.show()"
   ]
  },
  {
   "cell_type": "code",
   "execution_count": 30,
   "metadata": {
    "colab": {
     "base_uri": "https://localhost:8080/",
     "height": 600
    },
    "id": "Buk0QiAHjW4m",
    "outputId": "ff442306-9f42-44f2-caf6-4ea663432212"
   },
   "outputs": [
    {
     "data": {
      "image/png": "[encoded data removed]",
      "text/plain": [
       "<Figure size 600x600 with 3 Axes>"
      ]
     },
     "metadata": {},
     "output_type": "display_data"
    }
   ],
   "source": [
    "#joint plot of rating and rating counts\n",
    "sns.jointplot(x='rating',y='rating_counts',data=mean_rating_product_count)\n",
    "plt.title('Joint Plot of rating and rating counts')\n",
    "plt.tight_layout()\n",
    "plt.show()"
   ]
  },
  {
   "cell_type": "code",
   "execution_count": 31,
   "metadata": {
    "colab": {
     "base_uri": "https://localhost:8080/",
     "height": 434
    },
    "id": "p74uVMq_jxZE",
    "outputId": "8c22b558-9479-44a5-fcaa-55e2e9ede910"
   },
   "outputs": [
    {
     "data": {
      "image/png": "[encoded data removed]",
      "text/plain": [
       "<Figure size 640x480 with 1 Axes>"
      ]
     },
     "metadata": {},
     "output_type": "display_data"
    }
   ],
   "source": [
    "plt.scatter(x=mean_rating_product_count['rating'],y=mean_rating_product_count['rating_counts'])\n",
    "plt.show()"
   ]
  },
  {
   "cell_type": "code",
   "execution_count": 32,
   "metadata": {
    "colab": {
     "base_uri": "https://localhost:8080/"
    },
    "id": "d3Dvy8vUkZ5Y",
    "outputId": "d201cd7f-4ac4-4796-b881-2a94e62de955"
   },
   "outputs": [
    {
     "name": "stdout",
     "output_type": "stream",
     "text": [
      "Correlation between Rating and Rating Counts is : 0.11322902373558323 \n"
     ]
    }
   ],
   "source": [
    "print('Correlation between Rating and Rating Counts is : {} '.format(mean_rating_product_count['rating'].corr(mean_rating_product_count['rating_counts']))) #CORRELATION B/W RATING AND RATING COUNT"
   ]
  },
  {
   "cell_type": "markdown",
   "metadata": {
    "id": "jGR3vzXFDBmy"
   },
   "source": [
    "**Collaberative filtering (Item-Item recommedation)**\n"
   ]
  },
  {
   "cell_type": "code",
   "execution_count": 33,
   "metadata": {},
   "outputs": [
    {
     "name": "stdout",
     "output_type": "stream",
     "text": [
      "Defaulting to user installation because normal site-packages is not writeable\n",
      "Requirement already satisfied: pip in /Users/arsalanahmed/Library/Python/3.9/lib/python/site-packages (25.1.1)\n",
      "Note: you may need to restart the kernel to use updated packages.\n"
     ]
    }
   ],
   "source": [
    "pip install --upgrade pip\n"
   ]
  },
  {
   "cell_type": "code",
   "execution_count": 34,
   "metadata": {},
   "outputs": [
    {
     "name": "stdout",
     "output_type": "stream",
     "text": [
      "Defaulting to user installation because normal site-packages is not writeable\n",
      "Requirement already satisfied: scikit-surprise in /Users/arsalanahmed/Library/Python/3.9/lib/python/site-packages (1.1.4)\n",
      "Requirement already satisfied: joblib>=1.2.0 in /Users/arsalanahmed/Library/Python/3.9/lib/python/site-packages (from scikit-surprise) (1.5.1)\n",
      "Requirement already satisfied: numpy>=1.19.5 in /Users/arsalanahmed/Library/Python/3.9/lib/python/site-packages (from scikit-surprise) (1.26.4)\n",
      "Requirement already satisfied: scipy>=1.6.0 in /Users/arsalanahmed/Library/Python/3.9/lib/python/site-packages (from scikit-surprise) (1.13.1)\n",
      "Note: you may need to restart the kernel to use updated packages.\n"
     ]
    }
   ],
   "source": [
    "pip install scikit-surprise  #BASICALLY USED FOR RECOM PURPOSE\n"
   ]
  },
  {
   "cell_type": "code",
   "execution_count": 35,
   "metadata": {},
   "outputs": [
    {
     "name": "stdout",
     "output_type": "stream",
     "text": [
      "Defaulting to user installation because normal site-packages is not writeable\n",
      "Requirement already satisfied: numpy<2 in /Users/arsalanahmed/Library/Python/3.9/lib/python/site-packages (1.26.4)\n",
      "Note: you may need to restart the kernel to use updated packages.\n"
     ]
    }
   ],
   "source": [
    "pip install \"numpy<2\""
   ]
  },
  {
   "cell_type": "code",
   "execution_count": 36,
   "metadata": {},
   "outputs": [
    {
     "name": "stdout",
     "output_type": "stream",
     "text": [
      "Defaulting to user installation because normal site-packages is not writeable\n",
      "Requirement already satisfied: pybind11>=2.12 in /Users/arsalanahmed/Library/Python/3.9/lib/python/site-packages (3.0.0)\n",
      "Note: you may need to restart the kernel to use updated packages.\n"
     ]
    }
   ],
   "source": [
    "pip install --upgrade \"pybind11>=2.12\"\n"
   ]
  },
  {
   "cell_type": "code",
   "execution_count": 37,
   "metadata": {
    "colab": {
     "base_uri": "https://localhost:8080/"
    },
    "id": "YAjLmrZmDO8P",
    "outputId": "7c006b88-fffc-4771-8f11-efe0ebefd773"
   },
   "outputs": [],
   "source": [
    "#import surprise library for collebrative filtering\n",
    "from surprise import KNNWithMeans  #MODEL IN SUPRISE\n",
    "from surprise import Dataset\n",
    "from surprise import accuracy\n",
    "from surprise import Reader\n",
    "from surprise.model_selection import train_test_split"
   ]
  },
  {
   "cell_type": "code",
   "execution_count": 38,
   "metadata": {
    "id": "FphVOtF-EE4m"
   },
   "outputs": [],
   "source": [
    "#Reading the dataset\n",
    "reader = Reader(rating_scale=(1, 5))              #RATING B/W 1-5\n",
    "surprise_data = Dataset.load_from_df(data,reader)  # NEW DF"
   ]
  },
  {
   "cell_type": "code",
   "execution_count": 39,
   "metadata": {
    "id": "65M2vT7fELQN"
   },
   "outputs": [],
   "source": [
    "#Splitting surprise the dataset into 80,20 ratio using train_test_split\n",
    "trainset, testset = train_test_split(surprise_data, test_size=0.3,random_state=42)"
   ]
  },
  {
   "cell_type": "code",
   "execution_count": 40,
   "metadata": {
    "colab": {
     "base_uri": "https://localhost:8080/"
    },
    "id": "25KRLKnvEtMc",
    "outputId": "a14554a7-cd24-4543-fb65-25be80d631c0"
   },
   "outputs": [
    {
     "name": "stdout",
     "output_type": "stream",
     "text": [
      "Estimating biases using als...\n",
      "Computing the pearson_baseline similarity matrix...\n",
      "Done computing similarity matrix.\n"
     ]
    },
    {
     "data": {
      "text/plain": [
       "<surprise.prediction_algorithms.knns.KNNWithMeans at 0x338916250>"
      ]
     },
     "execution_count": 40,
     "metadata": {},
     "output_type": "execute_result"
    }
   ],
   "source": [
    "# Use user_based true/false to switch between user-based or item-based collaborative filtering\n",
    "algo = KNNWithMeans(k=5, sim_options={'name': 'pearson_baseline', 'user_based': False})\n",
    "algo.fit(trainset)     #WE ARE USING COLL BASED FILTERING"
   ]
  },
  {
   "cell_type": "code",
   "execution_count": 41,
   "metadata": {
    "colab": {
     "base_uri": "https://localhost:8080/"
    },
    "id": "0k7Y7hd6FRyY",
    "outputId": "f6fe3dd3-e374-4b32-86b1-4a8a907e2a18"
   },
   "outputs": [
    {
     "name": "stdout",
     "output_type": "stream",
     "text": [
      "Item-based Model : Test Set\n",
      "RMSE: 1.3088\n"
     ]
    },
    {
     "data": {
      "text/plain": [
       "1.3088428962782621"
      ]
     },
     "execution_count": 41,
     "metadata": {},
     "output_type": "execute_result"
    }
   ],
   "source": [
    "## Make predictions using the test set with the algorithm (stored in 'algo')\n",
    "test_pred=algo.test(testset)\n",
    "\n",
    "#Print the Root Mean Squared Error (RMSE)\n",
    "print(\"Item-based Model : Test Set\")\n",
    "\n",
    "# Compute and print the RMSE using the test_pred variable\n",
    "accuracy.rmse(test_pred ,verbose=True)  # NO NEED FOR YTEST AND YPRED IN SUPRISE\n"
   ]
  },
  {
   "cell_type": "markdown",
   "metadata": {
    "id": "g3nGzazwGVK7"
   },
   "source": [
    "**Model-based collaborative filtering system**\n",
    "\n"
   ]
  },
  {
   "cell_type": "code",
   "execution_count": 42,
   "metadata": {
    "colab": {
     "base_uri": "https://localhost:8080/",
     "height": 287
    },
    "id": "Tkq4tFfqHWrz",
    "outputId": "b90895fb-5db1-40f3-f1ae-8ecbb4aa7e6e",
    "scrolled": true
   },
   "outputs": [
    {
     "data": {
      "text/html": [
       "<div>\n",
       "<style scoped>\n",
       "    .dataframe tbody tr th:only-of-type {\n",
       "        vertical-align: middle;\n",
       "    }\n",
       "\n",
       "    .dataframe tbody tr th {\n",
       "        vertical-align: top;\n",
       "    }\n",
       "\n",
       "    .dataframe thead th {\n",
       "        text-align: right;\n",
       "    }\n",
       "</style>\n",
       "<table border=\"1\" class=\"dataframe\">\n",
       "  <thead>\n",
       "    <tr style=\"text-align: right;\">\n",
       "      <th>productId</th>\n",
       "      <th>0972683275</th>\n",
       "      <th>1400501466</th>\n",
       "      <th>1400532655</th>\n",
       "      <th>140053271X</th>\n",
       "      <th>B00000DM9W</th>\n",
       "      <th>B00000J061</th>\n",
       "      <th>B00000J1V5</th>\n",
       "      <th>B00000JDF5</th>\n",
       "      <th>B00000K2YR</th>\n",
       "      <th>B00001P4XA</th>\n",
       "      <th>...</th>\n",
       "      <th>B00HVLUR86</th>\n",
       "      <th>B00I2VIR2M</th>\n",
       "      <th>B00I2ZBD1U</th>\n",
       "      <th>B00I94IPTW</th>\n",
       "      <th>B00IF70QCW</th>\n",
       "      <th>B00IGISO9C</th>\n",
       "      <th>B00INNP5VU</th>\n",
       "      <th>B00ISGCAJM</th>\n",
       "      <th>B00IVPU786</th>\n",
       "      <th>B00IZBNQO8</th>\n",
       "    </tr>\n",
       "    <tr>\n",
       "      <th>userId</th>\n",
       "      <th></th>\n",
       "      <th></th>\n",
       "      <th></th>\n",
       "      <th></th>\n",
       "      <th></th>\n",
       "      <th></th>\n",
       "      <th></th>\n",
       "      <th></th>\n",
       "      <th></th>\n",
       "      <th></th>\n",
       "      <th></th>\n",
       "      <th></th>\n",
       "      <th></th>\n",
       "      <th></th>\n",
       "      <th></th>\n",
       "      <th></th>\n",
       "      <th></th>\n",
       "      <th></th>\n",
       "      <th></th>\n",
       "      <th></th>\n",
       "      <th></th>\n",
       "    </tr>\n",
       "  </thead>\n",
       "  <tbody>\n",
       "    <tr>\n",
       "      <th>A0018140387F6UF838FIT</th>\n",
       "      <td>0.0</td>\n",
       "      <td>0.0</td>\n",
       "      <td>0.0</td>\n",
       "      <td>0.0</td>\n",
       "      <td>0.0</td>\n",
       "      <td>0.0</td>\n",
       "      <td>0.0</td>\n",
       "      <td>0.0</td>\n",
       "      <td>0.0</td>\n",
       "      <td>0.0</td>\n",
       "      <td>...</td>\n",
       "      <td>0.0</td>\n",
       "      <td>0.0</td>\n",
       "      <td>0.0</td>\n",
       "      <td>0.0</td>\n",
       "      <td>0.0</td>\n",
       "      <td>0.0</td>\n",
       "      <td>0.0</td>\n",
       "      <td>0.0</td>\n",
       "      <td>0.0</td>\n",
       "      <td>0.0</td>\n",
       "    </tr>\n",
       "    <tr>\n",
       "      <th>A0102833NIZQUIFW5XF0</th>\n",
       "      <td>0.0</td>\n",
       "      <td>0.0</td>\n",
       "      <td>0.0</td>\n",
       "      <td>0.0</td>\n",
       "      <td>0.0</td>\n",
       "      <td>0.0</td>\n",
       "      <td>0.0</td>\n",
       "      <td>0.0</td>\n",
       "      <td>0.0</td>\n",
       "      <td>0.0</td>\n",
       "      <td>...</td>\n",
       "      <td>0.0</td>\n",
       "      <td>0.0</td>\n",
       "      <td>0.0</td>\n",
       "      <td>0.0</td>\n",
       "      <td>0.0</td>\n",
       "      <td>0.0</td>\n",
       "      <td>0.0</td>\n",
       "      <td>0.0</td>\n",
       "      <td>0.0</td>\n",
       "      <td>0.0</td>\n",
       "    </tr>\n",
       "    <tr>\n",
       "      <th>A0110255Y4ER0RTKEKXS</th>\n",
       "      <td>0.0</td>\n",
       "      <td>0.0</td>\n",
       "      <td>0.0</td>\n",
       "      <td>0.0</td>\n",
       "      <td>0.0</td>\n",
       "      <td>0.0</td>\n",
       "      <td>0.0</td>\n",
       "      <td>0.0</td>\n",
       "      <td>0.0</td>\n",
       "      <td>0.0</td>\n",
       "      <td>...</td>\n",
       "      <td>0.0</td>\n",
       "      <td>0.0</td>\n",
       "      <td>0.0</td>\n",
       "      <td>0.0</td>\n",
       "      <td>0.0</td>\n",
       "      <td>0.0</td>\n",
       "      <td>0.0</td>\n",
       "      <td>0.0</td>\n",
       "      <td>0.0</td>\n",
       "      <td>0.0</td>\n",
       "    </tr>\n",
       "    <tr>\n",
       "      <th>A01207993SNWKZOPI8D7P</th>\n",
       "      <td>0.0</td>\n",
       "      <td>0.0</td>\n",
       "      <td>0.0</td>\n",
       "      <td>0.0</td>\n",
       "      <td>0.0</td>\n",
       "      <td>0.0</td>\n",
       "      <td>0.0</td>\n",
       "      <td>0.0</td>\n",
       "      <td>0.0</td>\n",
       "      <td>0.0</td>\n",
       "      <td>...</td>\n",
       "      <td>0.0</td>\n",
       "      <td>0.0</td>\n",
       "      <td>0.0</td>\n",
       "      <td>0.0</td>\n",
       "      <td>0.0</td>\n",
       "      <td>0.0</td>\n",
       "      <td>0.0</td>\n",
       "      <td>0.0</td>\n",
       "      <td>0.0</td>\n",
       "      <td>0.0</td>\n",
       "    </tr>\n",
       "    <tr>\n",
       "      <th>A0248467M5IK0285COTA</th>\n",
       "      <td>0.0</td>\n",
       "      <td>0.0</td>\n",
       "      <td>0.0</td>\n",
       "      <td>0.0</td>\n",
       "      <td>0.0</td>\n",
       "      <td>0.0</td>\n",
       "      <td>0.0</td>\n",
       "      <td>0.0</td>\n",
       "      <td>0.0</td>\n",
       "      <td>0.0</td>\n",
       "      <td>...</td>\n",
       "      <td>0.0</td>\n",
       "      <td>0.0</td>\n",
       "      <td>0.0</td>\n",
       "      <td>0.0</td>\n",
       "      <td>0.0</td>\n",
       "      <td>0.0</td>\n",
       "      <td>0.0</td>\n",
       "      <td>0.0</td>\n",
       "      <td>0.0</td>\n",
       "      <td>0.0</td>\n",
       "    </tr>\n",
       "  </tbody>\n",
       "</table>\n",
       "<p>5 rows × 4402 columns</p>\n",
       "</div>"
      ],
      "text/plain": [
       "productId              0972683275  1400501466  1400532655  140053271X  \\\n",
       "userId                                                                  \n",
       "A0018140387F6UF838FIT         0.0         0.0         0.0         0.0   \n",
       "A0102833NIZQUIFW5XF0          0.0         0.0         0.0         0.0   \n",
       "A0110255Y4ER0RTKEKXS          0.0         0.0         0.0         0.0   \n",
       "A01207993SNWKZOPI8D7P         0.0         0.0         0.0         0.0   \n",
       "A0248467M5IK0285COTA          0.0         0.0         0.0         0.0   \n",
       "\n",
       "productId              B00000DM9W  B00000J061  B00000J1V5  B00000JDF5  \\\n",
       "userId                                                                  \n",
       "A0018140387F6UF838FIT         0.0         0.0         0.0         0.0   \n",
       "A0102833NIZQUIFW5XF0          0.0         0.0         0.0         0.0   \n",
       "A0110255Y4ER0RTKEKXS          0.0         0.0         0.0         0.0   \n",
       "A01207993SNWKZOPI8D7P         0.0         0.0         0.0         0.0   \n",
       "A0248467M5IK0285COTA          0.0         0.0         0.0         0.0   \n",
       "\n",
       "productId              B00000K2YR  B00001P4XA  ...  B00HVLUR86  B00I2VIR2M  \\\n",
       "userId                                         ...                           \n",
       "A0018140387F6UF838FIT         0.0         0.0  ...         0.0         0.0   \n",
       "A0102833NIZQUIFW5XF0          0.0         0.0  ...         0.0         0.0   \n",
       "A0110255Y4ER0RTKEKXS          0.0         0.0  ...         0.0         0.0   \n",
       "A01207993SNWKZOPI8D7P         0.0         0.0  ...         0.0         0.0   \n",
       "A0248467M5IK0285COTA          0.0         0.0  ...         0.0         0.0   \n",
       "\n",
       "productId              B00I2ZBD1U  B00I94IPTW  B00IF70QCW  B00IGISO9C  \\\n",
       "userId                                                                  \n",
       "A0018140387F6UF838FIT         0.0         0.0         0.0         0.0   \n",
       "A0102833NIZQUIFW5XF0          0.0         0.0         0.0         0.0   \n",
       "A0110255Y4ER0RTKEKXS          0.0         0.0         0.0         0.0   \n",
       "A01207993SNWKZOPI8D7P         0.0         0.0         0.0         0.0   \n",
       "A0248467M5IK0285COTA          0.0         0.0         0.0         0.0   \n",
       "\n",
       "productId              B00INNP5VU  B00ISGCAJM  B00IVPU786  B00IZBNQO8  \n",
       "userId                                                                 \n",
       "A0018140387F6UF838FIT         0.0         0.0         0.0         0.0  \n",
       "A0102833NIZQUIFW5XF0          0.0         0.0         0.0         0.0  \n",
       "A0110255Y4ER0RTKEKXS          0.0         0.0         0.0         0.0  \n",
       "A01207993SNWKZOPI8D7P         0.0         0.0         0.0         0.0  \n",
       "A0248467M5IK0285COTA          0.0         0.0         0.0         0.0  \n",
       "\n",
       "[5 rows x 4402 columns]"
      ]
     },
     "execution_count": 42,
     "metadata": {},
     "output_type": "execute_result"
    }
   ],
   "source": [
    "data2=data.sample(20000) # 20000 SAMPLES TO CREATE PIVOT TABLE\n",
    "ratings_matrix = data2.pivot_table(values='rating', index='userId', columns='productId', fill_value=0)  #WHERE VALUE NOT PRESENT PUT 0\n",
    "ratings_matrix.head()"
   ]
  },
  {
   "cell_type": "markdown",
   "metadata": {
    "id": "vpGu7ToYIaae"
   },
   "source": [
    "above we have created a pivot table of the rating where the value of the column will rating and index will be userId and the column name will be productId"
   ]
  },
  {
   "cell_type": "code",
   "execution_count": 43,
   "metadata": {
    "colab": {
     "base_uri": "https://localhost:8080/"
    },
    "id": "37fEA_QOJHOn",
    "outputId": "04c5fd6c-7e82-4d67-a772-7b73b4ccf59d"
   },
   "outputs": [
    {
     "name": "stdout",
     "output_type": "stream",
     "text": [
      "Shape of the ratings_matrix: (19878, 4402)\n"
     ]
    }
   ],
   "source": [
    "# Check the shape of the ratings_matrix\n",
    "print(\"Shape of the ratings_matrix:\", ratings_matrix.shape)"
   ]
  },
  {
   "cell_type": "code",
   "execution_count": 44,
   "metadata": {
    "colab": {
     "base_uri": "https://localhost:8080/",
     "height": 287
    },
    "id": "lLW42qY1JPWB",
    "outputId": "5182f5db-41c5-4196-e95b-4b8c8733fb6d"
   },
   "outputs": [
    {
     "data": {
      "text/html": [
       "<div>\n",
       "<style scoped>\n",
       "    .dataframe tbody tr th:only-of-type {\n",
       "        vertical-align: middle;\n",
       "    }\n",
       "\n",
       "    .dataframe tbody tr th {\n",
       "        vertical-align: top;\n",
       "    }\n",
       "\n",
       "    .dataframe thead th {\n",
       "        text-align: right;\n",
       "    }\n",
       "</style>\n",
       "<table border=\"1\" class=\"dataframe\">\n",
       "  <thead>\n",
       "    <tr style=\"text-align: right;\">\n",
       "      <th>userId</th>\n",
       "      <th>A0018140387F6UF838FIT</th>\n",
       "      <th>A0102833NIZQUIFW5XF0</th>\n",
       "      <th>A0110255Y4ER0RTKEKXS</th>\n",
       "      <th>A01207993SNWKZOPI8D7P</th>\n",
       "      <th>A0248467M5IK0285COTA</th>\n",
       "      <th>A03301153EBVJDKSCH85G</th>\n",
       "      <th>A0365775KB9EJ2IY9JCE</th>\n",
       "      <th>A04748572PAN4TI6V489A</th>\n",
       "      <th>A04760413EG48602B26VX</th>\n",
       "      <th>A047728514JDSDXMK23HS</th>\n",
       "      <th>...</th>\n",
       "      <th>AZYCAZFMDT92L</th>\n",
       "      <th>AZYFEM5VG0CUY</th>\n",
       "      <th>AZYIAWJR9972L</th>\n",
       "      <th>AZYKSZ37A2F8Q</th>\n",
       "      <th>AZYOBQYNH09NY</th>\n",
       "      <th>AZZ3QEYYE9H6C</th>\n",
       "      <th>AZZKQRD1G1KTE</th>\n",
       "      <th>AZZNHVT9AH73R</th>\n",
       "      <th>AZZP8BC9WE0N8</th>\n",
       "      <th>AZZYYC8OX8ELM</th>\n",
       "    </tr>\n",
       "    <tr>\n",
       "      <th>productId</th>\n",
       "      <th></th>\n",
       "      <th></th>\n",
       "      <th></th>\n",
       "      <th></th>\n",
       "      <th></th>\n",
       "      <th></th>\n",
       "      <th></th>\n",
       "      <th></th>\n",
       "      <th></th>\n",
       "      <th></th>\n",
       "      <th></th>\n",
       "      <th></th>\n",
       "      <th></th>\n",
       "      <th></th>\n",
       "      <th></th>\n",
       "      <th></th>\n",
       "      <th></th>\n",
       "      <th></th>\n",
       "      <th></th>\n",
       "      <th></th>\n",
       "      <th></th>\n",
       "    </tr>\n",
       "  </thead>\n",
       "  <tbody>\n",
       "    <tr>\n",
       "      <th>0972683275</th>\n",
       "      <td>0.0</td>\n",
       "      <td>0.0</td>\n",
       "      <td>0.0</td>\n",
       "      <td>0.0</td>\n",
       "      <td>0.0</td>\n",
       "      <td>0.0</td>\n",
       "      <td>0.0</td>\n",
       "      <td>0.0</td>\n",
       "      <td>0.0</td>\n",
       "      <td>0.0</td>\n",
       "      <td>...</td>\n",
       "      <td>0.0</td>\n",
       "      <td>0.0</td>\n",
       "      <td>0.0</td>\n",
       "      <td>0.0</td>\n",
       "      <td>0.0</td>\n",
       "      <td>0.0</td>\n",
       "      <td>0.0</td>\n",
       "      <td>0.0</td>\n",
       "      <td>0.0</td>\n",
       "      <td>0.0</td>\n",
       "    </tr>\n",
       "    <tr>\n",
       "      <th>1400501466</th>\n",
       "      <td>0.0</td>\n",
       "      <td>0.0</td>\n",
       "      <td>0.0</td>\n",
       "      <td>0.0</td>\n",
       "      <td>0.0</td>\n",
       "      <td>0.0</td>\n",
       "      <td>0.0</td>\n",
       "      <td>0.0</td>\n",
       "      <td>0.0</td>\n",
       "      <td>0.0</td>\n",
       "      <td>...</td>\n",
       "      <td>0.0</td>\n",
       "      <td>0.0</td>\n",
       "      <td>0.0</td>\n",
       "      <td>0.0</td>\n",
       "      <td>0.0</td>\n",
       "      <td>0.0</td>\n",
       "      <td>0.0</td>\n",
       "      <td>0.0</td>\n",
       "      <td>0.0</td>\n",
       "      <td>0.0</td>\n",
       "    </tr>\n",
       "    <tr>\n",
       "      <th>1400532655</th>\n",
       "      <td>0.0</td>\n",
       "      <td>0.0</td>\n",
       "      <td>0.0</td>\n",
       "      <td>0.0</td>\n",
       "      <td>0.0</td>\n",
       "      <td>0.0</td>\n",
       "      <td>0.0</td>\n",
       "      <td>0.0</td>\n",
       "      <td>0.0</td>\n",
       "      <td>0.0</td>\n",
       "      <td>...</td>\n",
       "      <td>0.0</td>\n",
       "      <td>0.0</td>\n",
       "      <td>0.0</td>\n",
       "      <td>0.0</td>\n",
       "      <td>0.0</td>\n",
       "      <td>0.0</td>\n",
       "      <td>0.0</td>\n",
       "      <td>0.0</td>\n",
       "      <td>0.0</td>\n",
       "      <td>0.0</td>\n",
       "    </tr>\n",
       "    <tr>\n",
       "      <th>140053271X</th>\n",
       "      <td>0.0</td>\n",
       "      <td>0.0</td>\n",
       "      <td>0.0</td>\n",
       "      <td>0.0</td>\n",
       "      <td>0.0</td>\n",
       "      <td>0.0</td>\n",
       "      <td>0.0</td>\n",
       "      <td>0.0</td>\n",
       "      <td>0.0</td>\n",
       "      <td>0.0</td>\n",
       "      <td>...</td>\n",
       "      <td>0.0</td>\n",
       "      <td>0.0</td>\n",
       "      <td>0.0</td>\n",
       "      <td>0.0</td>\n",
       "      <td>0.0</td>\n",
       "      <td>0.0</td>\n",
       "      <td>0.0</td>\n",
       "      <td>0.0</td>\n",
       "      <td>0.0</td>\n",
       "      <td>0.0</td>\n",
       "    </tr>\n",
       "    <tr>\n",
       "      <th>B00000DM9W</th>\n",
       "      <td>0.0</td>\n",
       "      <td>0.0</td>\n",
       "      <td>0.0</td>\n",
       "      <td>0.0</td>\n",
       "      <td>0.0</td>\n",
       "      <td>0.0</td>\n",
       "      <td>0.0</td>\n",
       "      <td>0.0</td>\n",
       "      <td>0.0</td>\n",
       "      <td>0.0</td>\n",
       "      <td>...</td>\n",
       "      <td>0.0</td>\n",
       "      <td>0.0</td>\n",
       "      <td>0.0</td>\n",
       "      <td>0.0</td>\n",
       "      <td>0.0</td>\n",
       "      <td>0.0</td>\n",
       "      <td>0.0</td>\n",
       "      <td>0.0</td>\n",
       "      <td>0.0</td>\n",
       "      <td>0.0</td>\n",
       "    </tr>\n",
       "  </tbody>\n",
       "</table>\n",
       "<p>5 rows × 19878 columns</p>\n",
       "</div>"
      ],
      "text/plain": [
       "userId      A0018140387F6UF838FIT  A0102833NIZQUIFW5XF0  A0110255Y4ER0RTKEKXS  \\\n",
       "productId                                                                       \n",
       "0972683275                    0.0                   0.0                   0.0   \n",
       "1400501466                    0.0                   0.0                   0.0   \n",
       "1400532655                    0.0                   0.0                   0.0   \n",
       "140053271X                    0.0                   0.0                   0.0   \n",
       "B00000DM9W                    0.0                   0.0                   0.0   \n",
       "\n",
       "userId      A01207993SNWKZOPI8D7P  A0248467M5IK0285COTA  \\\n",
       "productId                                                 \n",
       "0972683275                    0.0                   0.0   \n",
       "1400501466                    0.0                   0.0   \n",
       "1400532655                    0.0                   0.0   \n",
       "140053271X                    0.0                   0.0   \n",
       "B00000DM9W                    0.0                   0.0   \n",
       "\n",
       "userId      A03301153EBVJDKSCH85G  A0365775KB9EJ2IY9JCE  \\\n",
       "productId                                                 \n",
       "0972683275                    0.0                   0.0   \n",
       "1400501466                    0.0                   0.0   \n",
       "1400532655                    0.0                   0.0   \n",
       "140053271X                    0.0                   0.0   \n",
       "B00000DM9W                    0.0                   0.0   \n",
       "\n",
       "userId      A04748572PAN4TI6V489A  A04760413EG48602B26VX  \\\n",
       "productId                                                  \n",
       "0972683275                    0.0                    0.0   \n",
       "1400501466                    0.0                    0.0   \n",
       "1400532655                    0.0                    0.0   \n",
       "140053271X                    0.0                    0.0   \n",
       "B00000DM9W                    0.0                    0.0   \n",
       "\n",
       "userId      A047728514JDSDXMK23HS  ...  AZYCAZFMDT92L  AZYFEM5VG0CUY  \\\n",
       "productId                          ...                                 \n",
       "0972683275                    0.0  ...            0.0            0.0   \n",
       "1400501466                    0.0  ...            0.0            0.0   \n",
       "1400532655                    0.0  ...            0.0            0.0   \n",
       "140053271X                    0.0  ...            0.0            0.0   \n",
       "B00000DM9W                    0.0  ...            0.0            0.0   \n",
       "\n",
       "userId      AZYIAWJR9972L  AZYKSZ37A2F8Q  AZYOBQYNH09NY  AZZ3QEYYE9H6C  \\\n",
       "productId                                                                \n",
       "0972683275            0.0            0.0            0.0            0.0   \n",
       "1400501466            0.0            0.0            0.0            0.0   \n",
       "1400532655            0.0            0.0            0.0            0.0   \n",
       "140053271X            0.0            0.0            0.0            0.0   \n",
       "B00000DM9W            0.0            0.0            0.0            0.0   \n",
       "\n",
       "userId      AZZKQRD1G1KTE  AZZNHVT9AH73R  AZZP8BC9WE0N8  AZZYYC8OX8ELM  \n",
       "productId                                                               \n",
       "0972683275            0.0            0.0            0.0            0.0  \n",
       "1400501466            0.0            0.0            0.0            0.0  \n",
       "1400532655            0.0            0.0            0.0            0.0  \n",
       "140053271X            0.0            0.0            0.0            0.0  \n",
       "B00000DM9W            0.0            0.0            0.0            0.0  \n",
       "\n",
       "[5 rows x 19878 columns]"
      ]
     },
     "execution_count": 44,
     "metadata": {},
     "output_type": "execute_result"
    }
   ],
   "source": [
    "#transpose the matrix to make column (productId) as index and index as column (userId)\n",
    "x_ratings_matrix=ratings_matrix.T\n",
    "\n",
    "# Display the first few rows of the transposed matrix to visualize the structure\n",
    "x_ratings_matrix.head()"
   ]
  },
  {
   "cell_type": "code",
   "execution_count": 45,
   "metadata": {
    "colab": {
     "base_uri": "https://localhost:8080/"
    },
    "id": "V_hV5zjGLHZc",
    "outputId": "06cab635-376f-45a1-c7ed-040c967858f0"
   },
   "outputs": [
    {
     "name": "stdout",
     "output_type": "stream",
     "text": [
      "Shape of the transposed ratings_matrix: (4402, 19878)\n"
     ]
    }
   ],
   "source": [
    "# Check the shape of the transposed ratings_matrix\n",
    "print(\"Shape of the transposed ratings_matrix:\", x_ratings_matrix.shape)\n"
   ]
  },
  {
   "cell_type": "code",
   "execution_count": 46,
   "metadata": {
    "colab": {
     "base_uri": "https://localhost:8080/"
    },
    "id": "R7rf_-BeJ9jV",
    "outputId": "23ce24c9-8320-4f05-80d5-1052bbb51560"
   },
   "outputs": [
    {
     "name": "stdout",
     "output_type": "stream",
     "text": [
      "Shape of the decomposed matrix: (4402, 10)\n"
     ]
    }
   ],
   "source": [
    "#Decomposition of the matrix using Singular Value Decomposition technique\n",
    "from sklearn.decomposition import TruncatedSVD  #TO REDUCE DIMENSION FOR BETTER PREDICTION\n",
    "\n",
    "# Initializing TruncatedSVD with 10 components to perform dimensionality reduction\n",
    "SVD = TruncatedSVD(n_components=10)\n",
    "\n",
    "# resulting in a decomposed matrix with reduced dimensions\n",
    "decomposed_matrix = SVD.fit_transform(x_ratings_matrix)\n",
    "\n",
    "# Print the shape of the decomposed matrix to see the dimensions after reduction\n",
    "print(\"Shape of the decomposed matrix:\", decomposed_matrix.shape)"
   ]
  },
  {
   "cell_type": "code",
   "execution_count": 47,
   "metadata": {
    "colab": {
     "base_uri": "https://localhost:8080/"
    },
    "id": "fnh7pZhQK4SP",
    "outputId": "78f499c9-bef8-4991-df47-c893a618084c"
   },
   "outputs": [
    {
     "data": {
      "text/plain": [
       "(4402, 4402)"
      ]
     },
     "execution_count": 47,
     "metadata": {},
     "output_type": "execute_result"
    }
   ],
   "source": [
    "#Correlation Matrix\n",
    "correlation_matrix = np.corrcoef(decomposed_matrix)\n",
    "correlation_matrix.shape   #TO FIND CLOSENESS B/W EACH"
   ]
  },
  {
   "cell_type": "code",
   "execution_count": 48,
   "metadata": {
    "colab": {
     "base_uri": "https://localhost:8080/"
    },
    "id": "lfOhqNwUNjDK",
    "outputId": "496902ea-32e4-4742-9c90-90d1581d7811"
   },
   "outputs": [
    {
     "name": "stdout",
     "output_type": "stream",
     "text": [
      "ProductID at index 10: B00001P4XH\n"
     ]
    }
   ],
   "source": [
    "\n",
    "# Access the index label at position 10 in the transposed ratings matrix (productId at index 10)\n",
    "productId_at_index_10 = x_ratings_matrix.index[10]\n",
    "\n",
    "# Print the productId at index 10\n",
    "print(\"ProductID at index 10:\", productId_at_index_10)\n"
   ]
  },
  {
   "cell_type": "code",
   "execution_count": 49,
   "metadata": {
    "colab": {
     "base_uri": "https://localhost:8080/"
    },
    "id": "WvW4-jGKKr_O",
    "outputId": "ffb080f3-7d89-4722-d935-382af09a22fd"
   },
   "outputs": [
    {
     "name": "stdout",
     "output_type": "stream",
     "text": [
      "11\n"
     ]
    }
   ],
   "source": [
    "i=\"B00001P4ZH\"\n",
    "# Get a list of product names (index) from the transposed ratings_matrix\n",
    "product_names=list(x_ratings_matrix.index)\n",
    "# Find the index of the specified product ID in the list of product names\n",
    "product_id=product_names.index(i)\n",
    "# Print the index of the specified product ID\n",
    "print(product_id)\n"
   ]
  },
  {
   "cell_type": "markdown",
   "metadata": {
    "id": "vkBma-SMOXG4"
   },
   "source": [
    "Correlation for all items with the item purchased by this customer based on items rated by other customers people who bought the same product"
   ]
  },
  {
   "cell_type": "code",
   "execution_count": 50,
   "metadata": {
    "colab": {
     "base_uri": "https://localhost:8080/"
    },
    "id": "1bStY_WsN49o",
    "outputId": "073fa1b8-0f97-47f0-d9b9-31a90c499875"
   },
   "outputs": [
    {
     "data": {
      "text/plain": [
       "(4402,)"
      ]
     },
     "execution_count": 50,
     "metadata": {},
     "output_type": "execute_result"
    }
   ],
   "source": [
    "correlation_product_ID = correlation_matrix[product_id]\n",
    "# Extract the correlation values for a specific product ID from the correlation_matrix\n",
    "# and simultaneously print the shape of the resulting correlation_product_ID\n",
    "correlation_product_ID.shape\n"
   ]
  },
  {
   "cell_type": "code",
   "execution_count": 51,
   "metadata": {
    "colab": {
     "base_uri": "https://localhost:8080/"
    },
    "id": "IsHFmalDO1xB",
    "outputId": "b6b1059d-7bb7-4fb6-fb9c-1d457d7d3f88"
   },
   "outputs": [
    {
     "data": {
      "text/plain": [
       "(1039, 4402)"
      ]
     },
     "execution_count": 51,
     "metadata": {},
     "output_type": "execute_result"
    }
   ],
   "source": [
    "correlation_matrix[correlation_product_ID>0.75].shape  #RECOM PROD HAVING HIGH CORR (530 RECORDS)"
   ]
  },
  {
   "cell_type": "code",
   "execution_count": 52,
   "metadata": {
    "colab": {
     "base_uri": "https://localhost:8080/"
    },
    "id": "_75clIAoOlIW",
    "outputId": "f422300b-b9a4-4b87-ec9b-9cf81ec2d3d6"
   },
   "outputs": [
    {
     "data": {
      "text/plain": [
       "['1400501466',\n",
       " 'B00000K2YR',\n",
       " 'B00001P4XH',\n",
       " 'B00001P4ZH',\n",
       " 'B00001W0EQ',\n",
       " 'B00004SABB',\n",
       " 'B00004SABJ',\n",
       " 'B00004SB92',\n",
       " 'B00004TDLD',\n",
       " 'B00004WCID',\n",
       " 'B00004Z0C7',\n",
       " 'B00004ZCJE',\n",
       " 'B00005ARK3',\n",
       " 'B00005ATMB',\n",
       " 'B00005BC0J',\n",
       " 'B00005LEN4',\n",
       " 'B000066E6Y',\n",
       " 'B000066R6M',\n",
       " 'B000067RBT',\n",
       " 'B000067RT6']"
      ]
     },
     "execution_count": 52,
     "metadata": {},
     "output_type": "execute_result"
    }
   ],
   "source": [
    "#Recommending top 20 highly correlated products in sequence\n",
    "recommend = list(x_ratings_matrix.index[correlation_product_ID > 0.75])\n",
    "recommend[:20]"
   ]
  },
  {
   "cell_type": "code",
   "execution_count": 53,
   "metadata": {
    "colab": {
     "base_uri": "https://localhost:8080/",
     "height": 206
    },
    "id": "7LEPGPmqCkYe",
    "outputId": "d8ad10f3-bfb2-4cfc-d0f0-92436304241a"
   },
   "outputs": [
    {
     "data": {
      "text/html": [
       "<div>\n",
       "<style scoped>\n",
       "    .dataframe tbody tr th:only-of-type {\n",
       "        vertical-align: middle;\n",
       "    }\n",
       "\n",
       "    .dataframe tbody tr th {\n",
       "        vertical-align: top;\n",
       "    }\n",
       "\n",
       "    .dataframe thead th {\n",
       "        text-align: right;\n",
       "    }\n",
       "</style>\n",
       "<table border=\"1\" class=\"dataframe\">\n",
       "  <thead>\n",
       "    <tr style=\"text-align: right;\">\n",
       "      <th></th>\n",
       "      <th>0</th>\n",
       "    </tr>\n",
       "  </thead>\n",
       "  <tbody>\n",
       "    <tr>\n",
       "      <th>0</th>\n",
       "      <td>1400501466</td>\n",
       "    </tr>\n",
       "    <tr>\n",
       "      <th>1</th>\n",
       "      <td>B00000K2YR</td>\n",
       "    </tr>\n",
       "    <tr>\n",
       "      <th>2</th>\n",
       "      <td>B00001P4XH</td>\n",
       "    </tr>\n",
       "    <tr>\n",
       "      <th>3</th>\n",
       "      <td>B00001P4ZH</td>\n",
       "    </tr>\n",
       "    <tr>\n",
       "      <th>4</th>\n",
       "      <td>B00001W0EQ</td>\n",
       "    </tr>\n",
       "  </tbody>\n",
       "</table>\n",
       "</div>"
      ],
      "text/plain": [
       "            0\n",
       "0  1400501466\n",
       "1  B00000K2YR\n",
       "2  B00001P4XH\n",
       "3  B00001P4ZH\n",
       "4  B00001W0EQ"
      ]
     },
     "execution_count": 53,
     "metadata": {},
     "output_type": "execute_result"
    }
   ],
   "source": [
    "ss = pd.DataFrame(recommend)\n",
    "ss.head()"
   ]
  },
  {
   "cell_type": "code",
   "execution_count": 54,
   "metadata": {},
   "outputs": [],
   "source": [
    "from surprise.model_selection import GridSearchCV\n",
    "from surprise import Dataset\n",
    "from surprise import Reader"
   ]
  },
  {
   "cell_type": "code",
   "execution_count": 55,
   "metadata": {},
   "outputs": [],
   "source": [
    "# Load your data into a Surprise dataset object\n",
    "reader = Reader(line_format='user item rating', sep=',', rating_scale=(1, 5))\n",
    "file_path = 'ratings_Electronics.csv'  # File path of your dataset\n",
    "surprise_data = Dataset.load_from_file(file_path, reader)"
   ]
  },
  {
   "cell_type": "code",
   "execution_count": 56,
   "metadata": {},
   "outputs": [],
   "source": [
    "# Define parameter grid\n",
    "param_grid = {'k': [3, 5, 10, 20], 'sim_options': {'name': ['pearson_baseline'], 'user_based': [False]}}\n"
   ]
  },
  {
   "cell_type": "code",
   "execution_count": 61,
   "metadata": {},
   "outputs": [],
   "source": [
    "# Initialize GridSearchCV with the KNNWithMeans algorithm and parameter grid\n",
    "grid_search = GridSearchCV(KNNWithMeans, param_grid, measures=['RMSE'], cv=3, n_jobs=-1)"
   ]
  },
  {
   "cell_type": "code",
   "execution_count": 63,
   "metadata": {},
   "outputs": [],
   "source": [
    "# Perform hyperparameter optimization on the surprise_data\n",
    "#grid_search.fit(surprise_data)"
   ]
  },
  {
   "cell_type": "code",
   "execution_count": 59,
   "metadata": {},
   "outputs": [],
   "source": [
    "###\n",
    "# Get the best RMSE score and corresponding parameters\n",
    "#print('Best RMSE score:', grid_search.best_score['rmse'])\n",
    "#print('Best parameters:', grid_search.best_params['rmse'])\n",
    "\n",
    "# Get the best estimator (model) obtained from hyperparameter tuning\n",
    "#best_model = grid_search.best_estimator['rmse']\n",
    "\n",
    "# Train the best model on the entire training set\n",
    "#trainset = surprise_data.build_full_trainset()\n",
    "#best_model.fit(trainset)\n",
    "\n",
    "# Make predictions on the test set using the best model\n",
    "#test_pred = best_model.test(testset)\n",
    "\n",
    "# Evaluate the best model's performance using RMSE\n",
    "#print(\"Optimized Model : Test Set\")\n",
    "#accuracy.rmse(test_pred, verbose=True)\n"
   ]
  }
 ],
 "metadata": {
  "accelerator": "TPU",
  "colab": {
   "provenance": []
  },
  "kernelspec": {
   "display_name": "Python 3",
   "language": "python",
   "name": "python3"
  },
  "language_info": {
   "codemirror_mode": {
    "name": "ipython",
    "version": 3
   },
   "file_extension": ".py",
   "mimetype": "text/x-python",
   "name": "python",
   "nbconvert_exporter": "python",
   "pygments_lexer": "ipython3",
   "version": "3.9.6"
  }
 },
 "nbformat": 4,
 "nbformat_minor": 4
}
